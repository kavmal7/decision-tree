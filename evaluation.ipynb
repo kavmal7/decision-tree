{
 "cells": [
  {
   "cell_type": "markdown",
   "metadata": {},
   "source": [
    "# Evaluation of the model"
   ]
  },
  {
   "cell_type": "markdown",
   "metadata": {},
   "source": [
    "First, we import our file with the custom functions along with other libraries useful for interacting with the data and testing:"
   ]
  },
  {
   "cell_type": "code",
   "execution_count": 1,
   "metadata": {},
   "outputs": [],
   "source": [
    "import dec_tree\n",
    "import numpy as np\n",
    "import pandas as pd\n",
    "from sklearn.metrics import accuracy_score\n",
    "from sklearn.model_selection import train_test_split\n",
    "from sklearn.tree import DecisionTreeClassifier\n",
    "import time"
   ]
  },
  {
   "cell_type": "markdown",
   "metadata": {},
   "source": [
    "Now, we can import the data to be tested on and split it:"
   ]
  },
  {
   "cell_type": "code",
   "execution_count": 2,
   "metadata": {},
   "outputs": [
    {
     "data": {
      "text/html": [
       "<div>\n",
       "<style scoped>\n",
       "    .dataframe tbody tr th:only-of-type {\n",
       "        vertical-align: middle;\n",
       "    }\n",
       "\n",
       "    .dataframe tbody tr th {\n",
       "        vertical-align: top;\n",
       "    }\n",
       "\n",
       "    .dataframe thead th {\n",
       "        text-align: right;\n",
       "    }\n",
       "</style>\n",
       "<table border=\"1\" class=\"dataframe\">\n",
       "  <thead>\n",
       "    <tr style=\"text-align: right;\">\n",
       "      <th></th>\n",
       "      <th>citric acid</th>\n",
       "      <th>residual sugar</th>\n",
       "      <th>pH</th>\n",
       "      <th>sulphates</th>\n",
       "      <th>alcohol</th>\n",
       "      <th>type</th>\n",
       "    </tr>\n",
       "  </thead>\n",
       "  <tbody>\n",
       "    <tr>\n",
       "      <th>0</th>\n",
       "      <td>0.13</td>\n",
       "      <td>1.60</td>\n",
       "      <td>3.34</td>\n",
       "      <td>0.59</td>\n",
       "      <td>9.2</td>\n",
       "      <td>1</td>\n",
       "    </tr>\n",
       "    <tr>\n",
       "      <th>1</th>\n",
       "      <td>0.10</td>\n",
       "      <td>2.80</td>\n",
       "      <td>3.60</td>\n",
       "      <td>0.66</td>\n",
       "      <td>10.2</td>\n",
       "      <td>1</td>\n",
       "    </tr>\n",
       "    <tr>\n",
       "      <th>2</th>\n",
       "      <td>0.32</td>\n",
       "      <td>1.90</td>\n",
       "      <td>3.20</td>\n",
       "      <td>0.55</td>\n",
       "      <td>9.5</td>\n",
       "      <td>1</td>\n",
       "    </tr>\n",
       "    <tr>\n",
       "      <th>3</th>\n",
       "      <td>0.29</td>\n",
       "      <td>13.65</td>\n",
       "      <td>3.00</td>\n",
       "      <td>0.60</td>\n",
       "      <td>9.5</td>\n",
       "      <td>0</td>\n",
       "    </tr>\n",
       "    <tr>\n",
       "      <th>4</th>\n",
       "      <td>0.26</td>\n",
       "      <td>2.00</td>\n",
       "      <td>3.41</td>\n",
       "      <td>0.74</td>\n",
       "      <td>9.2</td>\n",
       "      <td>1</td>\n",
       "    </tr>\n",
       "    <tr>\n",
       "      <th>...</th>\n",
       "      <td>...</td>\n",
       "      <td>...</td>\n",
       "      <td>...</td>\n",
       "      <td>...</td>\n",
       "      <td>...</td>\n",
       "      <td>...</td>\n",
       "    </tr>\n",
       "    <tr>\n",
       "      <th>3193</th>\n",
       "      <td>0.30</td>\n",
       "      <td>1.50</td>\n",
       "      <td>3.36</td>\n",
       "      <td>0.56</td>\n",
       "      <td>12.0</td>\n",
       "      <td>0</td>\n",
       "    </tr>\n",
       "    <tr>\n",
       "      <th>3194</th>\n",
       "      <td>0.23</td>\n",
       "      <td>6.20</td>\n",
       "      <td>2.89</td>\n",
       "      <td>0.34</td>\n",
       "      <td>10.1</td>\n",
       "      <td>0</td>\n",
       "    </tr>\n",
       "    <tr>\n",
       "      <th>3195</th>\n",
       "      <td>0.44</td>\n",
       "      <td>1.60</td>\n",
       "      <td>3.38</td>\n",
       "      <td>0.86</td>\n",
       "      <td>9.9</td>\n",
       "      <td>1</td>\n",
       "    </tr>\n",
       "    <tr>\n",
       "      <th>3196</th>\n",
       "      <td>0.36</td>\n",
       "      <td>4.50</td>\n",
       "      <td>3.40</td>\n",
       "      <td>0.57</td>\n",
       "      <td>10.4</td>\n",
       "      <td>0</td>\n",
       "    </tr>\n",
       "    <tr>\n",
       "      <th>3197</th>\n",
       "      <td>0.34</td>\n",
       "      <td>6.40</td>\n",
       "      <td>2.99</td>\n",
       "      <td>0.40</td>\n",
       "      <td>10.8</td>\n",
       "      <td>0</td>\n",
       "    </tr>\n",
       "  </tbody>\n",
       "</table>\n",
       "<p>3198 rows × 6 columns</p>\n",
       "</div>"
      ],
      "text/plain": [
       "      citric acid  residual sugar    pH  sulphates  alcohol  type\n",
       "0            0.13            1.60  3.34       0.59      9.2     1\n",
       "1            0.10            2.80  3.60       0.66     10.2     1\n",
       "2            0.32            1.90  3.20       0.55      9.5     1\n",
       "3            0.29           13.65  3.00       0.60      9.5     0\n",
       "4            0.26            2.00  3.41       0.74      9.2     1\n",
       "...           ...             ...   ...        ...      ...   ...\n",
       "3193         0.30            1.50  3.36       0.56     12.0     0\n",
       "3194         0.23            6.20  2.89       0.34     10.1     0\n",
       "3195         0.44            1.60  3.38       0.86      9.9     1\n",
       "3196         0.36            4.50  3.40       0.57     10.4     0\n",
       "3197         0.34            6.40  2.99       0.40     10.8     0\n",
       "\n",
       "[3198 rows x 6 columns]"
      ]
     },
     "execution_count": 2,
     "metadata": {},
     "output_type": "execute_result"
    }
   ],
   "source": [
    "wine_data = pd.read_csv('wine_dataset.csv')\n",
    "# Separate features and label\n",
    "n = len(wine_data.columns) - 1\n",
    "X = wine_data.iloc[:, :n]\n",
    "y = wine_data.iloc[:, n]\n",
    "# Split data\n",
    "X_train, X_valtest, y_train, y_valtest = train_test_split(X, y, test_size=0.2, random_state=20)\n",
    "X_val, X_test, y_val, y_test = train_test_split(X_valtest, y_valtest, test_size=0.5, random_state=20)\n",
    "wine_data"
   ]
  },
  {
   "cell_type": "markdown",
   "metadata": {},
   "source": [
    "Now, a quick statistical overview of the data:"
   ]
  },
  {
   "cell_type": "code",
   "execution_count": 3,
   "metadata": {},
   "outputs": [
    {
     "data": {
      "text/html": [
       "<div>\n",
       "<style scoped>\n",
       "    .dataframe tbody tr th:only-of-type {\n",
       "        vertical-align: middle;\n",
       "    }\n",
       "\n",
       "    .dataframe tbody tr th {\n",
       "        vertical-align: top;\n",
       "    }\n",
       "\n",
       "    .dataframe thead th {\n",
       "        text-align: right;\n",
       "    }\n",
       "</style>\n",
       "<table border=\"1\" class=\"dataframe\">\n",
       "  <thead>\n",
       "    <tr style=\"text-align: right;\">\n",
       "      <th></th>\n",
       "      <th>citric acid</th>\n",
       "      <th>residual sugar</th>\n",
       "      <th>pH</th>\n",
       "      <th>sulphates</th>\n",
       "      <th>alcohol</th>\n",
       "      <th>type</th>\n",
       "    </tr>\n",
       "  </thead>\n",
       "  <tbody>\n",
       "    <tr>\n",
       "      <th>count</th>\n",
       "      <td>3198.000000</td>\n",
       "      <td>3198.000000</td>\n",
       "      <td>3198.000000</td>\n",
       "      <td>3198.000000</td>\n",
       "      <td>3198.000000</td>\n",
       "      <td>3198.000000</td>\n",
       "    </tr>\n",
       "    <tr>\n",
       "      <th>mean</th>\n",
       "      <td>0.301776</td>\n",
       "      <td>4.449781</td>\n",
       "      <td>3.249678</td>\n",
       "      <td>0.574431</td>\n",
       "      <td>10.459725</td>\n",
       "      <td>0.500000</td>\n",
       "    </tr>\n",
       "    <tr>\n",
       "      <th>std</th>\n",
       "      <td>0.165284</td>\n",
       "      <td>4.214445</td>\n",
       "      <td>0.163439</td>\n",
       "      <td>0.165587</td>\n",
       "      <td>1.143231</td>\n",
       "      <td>0.500078</td>\n",
       "    </tr>\n",
       "    <tr>\n",
       "      <th>min</th>\n",
       "      <td>0.000000</td>\n",
       "      <td>0.600000</td>\n",
       "      <td>2.740000</td>\n",
       "      <td>0.220000</td>\n",
       "      <td>8.000000</td>\n",
       "      <td>0.000000</td>\n",
       "    </tr>\n",
       "    <tr>\n",
       "      <th>25%</th>\n",
       "      <td>0.210000</td>\n",
       "      <td>1.900000</td>\n",
       "      <td>3.140000</td>\n",
       "      <td>0.470000</td>\n",
       "      <td>9.500000</td>\n",
       "      <td>0.000000</td>\n",
       "    </tr>\n",
       "    <tr>\n",
       "      <th>50%</th>\n",
       "      <td>0.300000</td>\n",
       "      <td>2.400000</td>\n",
       "      <td>3.240000</td>\n",
       "      <td>0.550000</td>\n",
       "      <td>10.200000</td>\n",
       "      <td>0.500000</td>\n",
       "    </tr>\n",
       "    <tr>\n",
       "      <th>75%</th>\n",
       "      <td>0.400000</td>\n",
       "      <td>5.937500</td>\n",
       "      <td>3.360000</td>\n",
       "      <td>0.650000</td>\n",
       "      <td>11.200000</td>\n",
       "      <td>1.000000</td>\n",
       "    </tr>\n",
       "    <tr>\n",
       "      <th>max</th>\n",
       "      <td>1.660000</td>\n",
       "      <td>65.800000</td>\n",
       "      <td>4.010000</td>\n",
       "      <td>2.000000</td>\n",
       "      <td>14.900000</td>\n",
       "      <td>1.000000</td>\n",
       "    </tr>\n",
       "  </tbody>\n",
       "</table>\n",
       "</div>"
      ],
      "text/plain": [
       "       citric acid  residual sugar           pH    sulphates      alcohol  \\\n",
       "count  3198.000000     3198.000000  3198.000000  3198.000000  3198.000000   \n",
       "mean      0.301776        4.449781     3.249678     0.574431    10.459725   \n",
       "std       0.165284        4.214445     0.163439     0.165587     1.143231   \n",
       "min       0.000000        0.600000     2.740000     0.220000     8.000000   \n",
       "25%       0.210000        1.900000     3.140000     0.470000     9.500000   \n",
       "50%       0.300000        2.400000     3.240000     0.550000    10.200000   \n",
       "75%       0.400000        5.937500     3.360000     0.650000    11.200000   \n",
       "max       1.660000       65.800000     4.010000     2.000000    14.900000   \n",
       "\n",
       "              type  \n",
       "count  3198.000000  \n",
       "mean      0.500000  \n",
       "std       0.500078  \n",
       "min       0.000000  \n",
       "25%       0.000000  \n",
       "50%       0.500000  \n",
       "75%       1.000000  \n",
       "max       1.000000  "
      ]
     },
     "execution_count": 3,
     "metadata": {},
     "output_type": "execute_result"
    }
   ],
   "source": [
    "wine_data.describe()"
   ]
  },
  {
   "cell_type": "markdown",
   "metadata": {},
   "source": [
    "It can be seen that looking at the mean for the label (type), we have an even class distribution. Therefore, accuracy may be an ideal performance measure. Now, we can test this data on our custom decision tree and Scikit-learn's version of a decision tree classifier. Let's first test our model with varying hyperparameters and pick the best one:"
   ]
  },
  {
   "cell_type": "code",
   "execution_count": 4,
   "metadata": {},
   "outputs": [
    {
     "name": "stdout",
     "output_type": "stream",
     "text": [
      "Accuracy of tree with the following parameters: {'Impurity': 'entropy', 'Pruning': True}: 0.88125 with runtime: 1.458103 seconds\n",
      "Accuracy of tree with the following parameters: {'Impurity': 'entropy', 'Pruning': False}: 0.878125 with runtime: 1.05296 seconds\n",
      "Accuracy of tree with the following parameters: {'Impurity': 'gini', 'Pruning': True}: 0.84375 with runtime: 1.337442 seconds\n",
      "Accuracy of tree with the following parameters: {'Impurity': 'gini', 'Pruning': False}: 0.903125 with runtime: 1.089802 seconds\n",
      "Best parameters: {'Impurity': 'gini', 'Pruning': False} with accuracy: 0.903125\n"
     ]
    }
   ],
   "source": [
    "best_acc = 0\n",
    "best_params = {}\n",
    "best_model = None\n",
    "prune_size = 0.2\n",
    "\n",
    "# Iterate over all hyperparameters\n",
    "for imp in ['entropy', 'gini']:\n",
    "    for prune in [True, False]:\n",
    "        start_time = time.time()\n",
    "        # Build tree with training data\n",
    "        current_tree = dec_tree.learn(X_train, y_train, imp, prune, prune_size)\n",
    "        # Test performance on validation data\n",
    "        current_acc = dec_tree.accuracy(np.column_stack((X_val, y_val)), current_tree)\n",
    "        end_time = time.time()\n",
    "        current_params = {'Impurity': imp, 'Pruning': prune}\n",
    "        print(f'Accuracy of tree with the following parameters: {current_params}: {current_acc} with runtime: {round(end_time-start_time, 6)} seconds')\n",
    "\n",
    "        # Save the model with best accuracy (and its parameters)\n",
    "        if current_acc > best_acc:\n",
    "            best_acc = current_acc\n",
    "            best_params = current_params\n",
    "            best_model = current_tree\n",
    "\n",
    "print(f'Best parameters: {best_params} with accuracy: {best_acc}')"
   ]
  },
  {
   "cell_type": "markdown",
   "metadata": {},
   "source": [
    "Let's use the best model on testing data:"
   ]
  },
  {
   "cell_type": "code",
   "execution_count": 5,
   "metadata": {},
   "outputs": [
    {
     "name": "stdout",
     "output_type": "stream",
     "text": [
      "Accuracy of the best tree (gini, pruning = False) on test data: 0.90625\n"
     ]
    }
   ],
   "source": [
    "best_test_acc = dec_tree.accuracy(np.column_stack((X_test, y_test)), best_model)\n",
    "print(f'Accuracy of the best tree ({best_params[\"Impurity\"]}, pruning = {best_params[\"Pruning\"]}) on test data: {best_test_acc}')"
   ]
  },
  {
   "cell_type": "markdown",
   "metadata": {},
   "source": [
    "Let's compare this with Scikit-learn's implementation:"
   ]
  },
  {
   "cell_type": "code",
   "execution_count": 6,
   "metadata": {},
   "outputs": [
    {
     "name": "stdout",
     "output_type": "stream",
     "text": [
      "Accuracy of sklearn's model using entropy: 0.871875 with runtime: 0.016211 seconds\n",
      "Accuracy of sklearn's model using gini: 0.890625 with runtime: 0.012122 seconds\n"
     ]
    }
   ],
   "source": [
    "best_imp = 'entropy'\n",
    "best_score = 0\n",
    "best_model = None\n",
    "# Iterate over impurity hyperparameters\n",
    "for imp in ['entropy', 'gini']:\n",
    "    # Build tree\n",
    "    sk_tree = DecisionTreeClassifier(criterion=imp, random_state=20)\n",
    "\n",
    "    # Time fitting and prediction on validation data\n",
    "    start_time_sklearn = time.time()\n",
    "    sk_tree.fit(X_train, y_train)\n",
    "    sk_pred = sk_tree.predict(X_val)\n",
    "    end_time_sklearn = time.time()\n",
    "\n",
    "    # Update values for best model\n",
    "    sk_acc = accuracy_score(y_val, sk_pred)\n",
    "    if sk_acc > best_score:\n",
    "        best_score = sk_acc\n",
    "        best_imp = imp\n",
    "        best_model = sk_tree\n",
    "    print(f'Accuracy of sklearn\\'s model using {imp}: {sk_acc} with runtime: {round(end_time_sklearn - start_time_sklearn, 6)} seconds')"
   ]
  },
  {
   "cell_type": "code",
   "execution_count": 7,
   "metadata": {},
   "outputs": [
    {
     "name": "stdout",
     "output_type": "stream",
     "text": [
      "Accuracy of sklearn's best model on test data using gini: 0.9\n"
     ]
    }
   ],
   "source": [
    "# Test on the best model\n",
    "sk_test = best_model.predict(X_test)\n",
    "sk_test_acc = accuracy_score(y_test, sk_test)\n",
    "print(f'Accuracy of sklearn\\'s best model on test data using {best_imp}: {sk_test_acc}')"
   ]
  }
 ],
 "metadata": {
  "kernelspec": {
   "display_name": "Python 3",
   "language": "python",
   "name": "python3"
  },
  "language_info": {
   "codemirror_mode": {
    "name": "ipython",
    "version": 3
   },
   "file_extension": ".py",
   "mimetype": "text/x-python",
   "name": "python",
   "nbconvert_exporter": "python",
   "pygments_lexer": "ipython3",
   "version": "3.10.11"
  },
  "orig_nbformat": 4
 },
 "nbformat": 4,
 "nbformat_minor": 2
}
